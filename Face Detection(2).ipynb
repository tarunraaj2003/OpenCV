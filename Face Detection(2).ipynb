{
 "cells": [
  {
   "cell_type": "code",
   "execution_count": 1,
   "id": "4a57c013",
   "metadata": {},
   "outputs": [],
   "source": [
    "import cv2"
   ]
  },
  {
   "cell_type": "code",
   "execution_count": 2,
   "id": "988fe741",
   "metadata": {},
   "outputs": [],
   "source": [
    "cascade = cv2.CascadeClassifier('haarcascade_frontalface_default.xml')\n",
    "vid = cv2.VideoCapture(0)\n",
    "\n",
    "\n",
    "while True:\n",
    "    _, i = vid.read()\n",
    "    gray_image= cv2.cvtColor(i, cv2.COLOR_BGR2GRAY)\n",
    "    face =cascade.detectMultiScale(gray_image, 1.1, 4)\n",
    "\n",
    "    for (a, b, w, h) in face:\n",
    "        cv2.rectangle(i, (a, b), (a+w, b+h), (255, 0, 0), 2)\n",
    "\n",
    "    cv2.imshow('VideoFaceDetection', i)\n",
    "\n",
    "    x= cv2.waitKey(1)\n",
    "    if x== ord('p'):\n",
    "        break\n",
    "        \n",
    "vid.release()\n",
    "cv2.destroyAllWindows()"
   ]
  }
 ],
 "metadata": {
  "kernelspec": {
   "display_name": "Python 3",
   "language": "python",
   "name": "python3"
  },
  "language_info": {
   "codemirror_mode": {
    "name": "ipython",
    "version": 3
   },
   "file_extension": ".py",
   "mimetype": "text/x-python",
   "name": "python",
   "nbconvert_exporter": "python",
   "pygments_lexer": "ipython3",
   "version": "3.8.8"
  }
 },
 "nbformat": 4,
 "nbformat_minor": 5
}
