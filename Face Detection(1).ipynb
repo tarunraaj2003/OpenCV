{
 "cells": [
  {
   "cell_type": "code",
   "execution_count": 1,
   "id": "e9d0bffa",
   "metadata": {},
   "outputs": [],
   "source": [
    "import cv2"
   ]
  },
  {
   "cell_type": "code",
   "execution_count": 2,
   "id": "bdb86697",
   "metadata": {},
   "outputs": [
    {
     "name": "stdout",
     "output_type": "stream",
     "text": [
      "<class 'numpy.ndarray'>\n",
      "[[84 31 71 71]]\n"
     ]
    }
   ],
   "source": [
    "face_cascade=cv2.CascadeClassifier(\"Documents\\\\haarcascade_frontalface_default.xml\")\n",
    "img=cv2.imread(\"E:\\B.TECH 1ST YEAR\\CA-4 WEB DESIGN\\CA-4 WEB DESIGN\\\\34.jfif\")\n",
    "gray_img=cv2.cvtColor(img ,cv2.COLOR_BGR2GRAY)\n",
    "faces=face_cascade.detectMultiScale(gray_img,scaleFactor=1.05,minNeighbors=5)\n",
    "print(type(faces))\n",
    "print(faces)\n",
    "\n",
    "for x,y,w,h in faces:\n",
    "    img=cv2.rectangle(img ,(x,y),(x+w,y+h),(0,255,0),3)\n",
    "cv2.imshow(\"Face\",img)\n",
    "cv2.waitKey(0)\n",
    "cv2.destroyAllWindows()"
   ]
  },
  {
   "cell_type": "code",
   "execution_count": null,
   "id": "640a57bc",
   "metadata": {},
   "outputs": [],
   "source": []
  }
 ],
 "metadata": {
  "kernelspec": {
   "display_name": "Python 3",
   "language": "python",
   "name": "python3"
  },
  "language_info": {
   "codemirror_mode": {
    "name": "ipython",
    "version": 3
   },
   "file_extension": ".py",
   "mimetype": "text/x-python",
   "name": "python",
   "nbconvert_exporter": "python",
   "pygments_lexer": "ipython3",
   "version": "3.8.8"
  }
 },
 "nbformat": 4,
 "nbformat_minor": 5
}
