{
 "cells": [
  {
   "cell_type": "code",
   "execution_count": 1,
   "id": "5a5a5372",
   "metadata": {},
   "outputs": [],
   "source": [
    "import cv2"
   ]
  },
  {
   "cell_type": "code",
   "execution_count": 2,
   "id": "535aabee",
   "metadata": {},
   "outputs": [
    {
     "name": "stdout",
     "output_type": "stream",
     "text": [
      "<class 'numpy.ndarray'>\n",
      "[[84 31 71 71]]\n"
     ]
    }
   ],
   "source": [
    "cascade=cv2.CascadeClassifier(\"Documents\\\\haarcascade_frontalface_default.xml\")\n",
    "i=cv2.imread(\"1.jfif\")\n",
    "gray_image=cv2.cvtColor(i,cv2.COLOR_BGR2GRAY)\n",
    "face=cascade.detectMultiScale(gray_image,scaleFactor=1.05,minNeighbors=5)\n",
    "\n",
    "print(type(face))\n",
    "print(face)\n",
    "\n",
    "for a,b,w,h in face:\n",
    "    i=cv2.rectangle(i,(a,b),(a+w,b+h),(255,0,0),3)\n",
    "    \n",
    "cv2.imshow(\"Face\",i)\n",
    "cv2.waitKey(0)\n",
    "cv2.destroyAllWindows()"
   ]
  }
 ],
 "metadata": {
  "kernelspec": {
   "display_name": "Python 3",
   "language": "python",
   "name": "python3"
  },
  "language_info": {
   "codemirror_mode": {
    "name": "ipython",
    "version": 3
   },
   "file_extension": ".py",
   "mimetype": "text/x-python",
   "name": "python",
   "nbconvert_exporter": "python",
   "pygments_lexer": "ipython3",
   "version": "3.8.8"
  }
 },
 "nbformat": 4,
 "nbformat_minor": 5
}
