{
 "cells": [
  {
   "cell_type": "code",
   "execution_count": 1,
   "id": "7673efba",
   "metadata": {},
   "outputs": [
    {
     "name": "stdout",
     "output_type": "stream",
     "text": [
      "True\n",
      "[[[  0  18   0]\n",
      "  [  0  19   0]\n",
      "  [  5  39   4]\n",
      "  ...\n",
      "  [ 79  78  84]\n",
      "  [ 81  78  83]\n",
      "  [ 70  68  72]]\n",
      "\n",
      " [[  0  16   0]\n",
      "  [  0  13   0]\n",
      "  [  0  30   0]\n",
      "  ...\n",
      "  [ 78  78  85]\n",
      "  [ 82  81  88]\n",
      "  [ 77  77  84]]\n",
      "\n",
      " [[  0  19   0]\n",
      "  [  0  12   0]\n",
      "  [  0  21   0]\n",
      "  ...\n",
      "  [ 76  79  82]\n",
      "  [ 75  81  81]\n",
      "  [ 73  79  78]]\n",
      "\n",
      " ...\n",
      "\n",
      " [[191  10   0]\n",
      "  [189   8   0]\n",
      "  [189   9   0]\n",
      "  ...\n",
      "  [ 92  85  89]\n",
      "  [ 76  65  70]\n",
      "  [ 83  70  76]]\n",
      "\n",
      " [[192  10   0]\n",
      "  [189   9   0]\n",
      "  [187   9   0]\n",
      "  ...\n",
      "  [ 96  81  78]\n",
      "  [ 77  56  56]\n",
      "  [ 90  67  67]]\n",
      "\n",
      " [[190  11   0]\n",
      "  [189  10   0]\n",
      "  [188   9   0]\n",
      "  ...\n",
      "  [104  90  88]\n",
      "  [ 82  63  61]\n",
      "  [100  81  78]]]\n"
     ]
    }
   ],
   "source": [
    "import cv2,time\n",
    "\n",
    "vid=cv2.VideoCapture(0)\n",
    "check,frame=vid.read()\n",
    "\n",
    "print(check)\n",
    "print(frame)\n",
    "\n",
    "time.sleep(4)\n",
    "cv2.imshow(\"Frame Capture\",frame)\n",
    "cv2.waitKey(0)\n",
    "vid.release()\n",
    "cv2.destroyAllWindows()"
   ]
  }
 ],
 "metadata": {
  "kernelspec": {
   "display_name": "Python 3",
   "language": "python",
   "name": "python3"
  },
  "language_info": {
   "codemirror_mode": {
    "name": "ipython",
    "version": 3
   },
   "file_extension": ".py",
   "mimetype": "text/x-python",
   "name": "python",
   "nbconvert_exporter": "python",
   "pygments_lexer": "ipython3",
   "version": "3.8.8"
  }
 },
 "nbformat": 4,
 "nbformat_minor": 5
}
